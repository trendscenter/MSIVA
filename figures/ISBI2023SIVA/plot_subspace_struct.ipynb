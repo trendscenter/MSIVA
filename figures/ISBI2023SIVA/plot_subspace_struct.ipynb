{
 "cells": [
  {
   "cell_type": "code",
   "execution_count": 1,
   "metadata": {},
   "outputs": [],
   "source": [
    "import numpy as np\n",
    "import matplotlib.pyplot as plt"
   ]
  },
  {
   "cell_type": "code",
   "execution_count": 2,
   "metadata": {},
   "outputs": [
    {
     "data": {
      "image/png": "[encoded data removed]",
      "text/plain": [
       "<Figure size 576x360 with 8 Axes>"
      ]
     },
     "metadata": {},
     "output_type": "display_data"
    }
   ],
   "source": [
    "num_source = 12\n",
    "\n",
    "# S1\n",
    "num_unique_source = 3\n",
    "color_ind = np.linspace(1,0,10)\n",
    "color_ind[-3] = color_ind[-3] + 0.05\n",
    "color_ind[-2] = color_ind[-2] + 0.1\n",
    "s11 = np.zeros((num_source, num_source))\n",
    "s11[:2,:2] = color_ind[0]\n",
    "s11[2:5,2:5] = color_ind[1]\n",
    "s11[5:9,5:9] = color_ind[2]\n",
    "s12 = np.copy(s11)\n",
    "s11[9,9] = color_ind[3]\n",
    "s11[10,10] = color_ind[4]\n",
    "s11[11,11] = color_ind[5]\n",
    "s12[9,9] = color_ind[6]\n",
    "s12[10,10] = color_ind[7]\n",
    "s12[11,11] = color_ind[8]\n",
    "\n",
    "# S2\n",
    "num_unique_source = 2\n",
    "color_ind = np.linspace(1,0,10)\n",
    "color_ind[-3] = color_ind[-3] + 0.05\n",
    "color_ind[-2] = color_ind[-2] + 0.1\n",
    "s21 = np.zeros((num_source, num_source))\n",
    "s21[:2,:2] = color_ind[0]\n",
    "s21[2:4,2:4] = color_ind[1]\n",
    "s21[4:6,4:6] = color_ind[2]\n",
    "s21[6:8,6:8] = color_ind[3]\n",
    "s21[8:10,8:10] = color_ind[4]\n",
    "\n",
    "s22 = np.copy(s21)\n",
    "s21[10,10] = color_ind[5]\n",
    "s21[11,11] = color_ind[6]\n",
    "s22[10,10] = color_ind[7]\n",
    "s22[11,11] = color_ind[8]\n",
    "\n",
    "# S3\n",
    "num_unique_source = 3\n",
    "color_ind = np.linspace(1,0,10)\n",
    "color_ind[-3] = color_ind[-3] + 0.05\n",
    "color_ind[-2] = color_ind[-2] + 0.1\n",
    "s31 = np.zeros((num_source, num_source))\n",
    "s31[:3,:3] = color_ind[0]\n",
    "s31[3:6,3:6] = color_ind[1]\n",
    "s31[6:9,6:9] = color_ind[2]\n",
    "s32 = np.copy(s31)\n",
    "s31[9,9] = color_ind[3]\n",
    "s31[10,10] = color_ind[4]\n",
    "s31[11,11] = color_ind[5]\n",
    "s32[9,9] = color_ind[6]\n",
    "s32[10,10] = color_ind[7]\n",
    "s32[11,11] = color_ind[8]\n",
    "\n",
    "# S4\n",
    "num_unique_source = 4\n",
    "color_ind = np.linspace(1,0,11)\n",
    "color_ind[-3] = color_ind[-3] + 0.05\n",
    "color_ind[-2] = color_ind[-2] + 0.1\n",
    "s41 = np.zeros((num_source, num_source))\n",
    "s41[:4,:4] = color_ind[0]\n",
    "s41[4:8,4:8] = color_ind[1]\n",
    "\n",
    "s42 = np.copy(s41)\n",
    "s41[8,8] = color_ind[2]\n",
    "s41[9,9] = color_ind[3]\n",
    "s41[10,10] = color_ind[4]\n",
    "s41[11,11] = color_ind[5]\n",
    "s42[8,8] = color_ind[6]\n",
    "s42[9,9] = color_ind[7]\n",
    "s42[10,10] = color_ind[8]\n",
    "s42[11,11] = color_ind[9]\n",
    "\n",
    "s_list = [ [s11, s12], [s21, s22], [s31, s32], [s41, s42] ]\n",
    "\n",
    "num_row = 2\n",
    "num_col = 4\n",
    "fig, axes = plt.subplots(nrows=num_row, ncols=num_col, figsize=(8,5))\n",
    "for c in range(num_col):\n",
    "  for r in range(num_row):\n",
    "    axes[r, c].imshow(s_list[c][r],cmap=\"YlGn\")\n",
    "    axes[r, c].set_title(f\"$S_{c+1}~~M_{r+1}$\",fontsize=18)\n",
    "    axes[r, c].set_xticks([],[])\n",
    "    axes[r, c].set_yticks([],[])\n",
    "\n",
    "plt.tight_layout()\n",
    "plt.savefig(\"subspace_structure_color_ylgn.pdf\")"
   ]
  },
  {
   "cell_type": "code",
   "execution_count": null,
   "metadata": {},
   "outputs": [],
   "source": []
  }
 ],
 "metadata": {
  "kernelspec": {
   "display_name": "Python 3.7.13 ('nhpseg')",
   "language": "python",
   "name": "python3"
  },
  "language_info": {
   "codemirror_mode": {
    "name": "ipython",
    "version": 3
   },
   "file_extension": ".py",
   "mimetype": "text/x-python",
   "name": "python",
   "nbconvert_exporter": "python",
   "pygments_lexer": "ipython3",
   "version": "3.7.13"
  },
  "orig_nbformat": 4,
  "vscode": {
   "interpreter": {
    "hash": "30c86d7e87117feea1cc08b035a94da7db90798447807219a06605c175b520ce"
   }
  }
 },
 "nbformat": 4,
 "nbformat_minor": 2
}
