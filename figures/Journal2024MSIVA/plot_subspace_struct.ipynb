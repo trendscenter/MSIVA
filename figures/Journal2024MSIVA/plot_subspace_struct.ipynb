{
 "cells": [
  {
   "cell_type": "code",
   "execution_count": 1,
   "metadata": {},
   "outputs": [],
   "source": [
    "import numpy as np\n",
    "import matplotlib.pyplot as plt"
   ]
  },
  {
   "cell_type": "code",
   "execution_count": 2,
   "metadata": {},
   "outputs": [],
   "source": [
    "num_source = 12\n",
    "color_ind = np.linspace(1,0.3,5)\n",
    "\n",
    "# S1\n",
    "num_unique_source = 3\n",
    "s1 = np.zeros((num_source, num_source))\n",
    "s1[:2,:2] = color_ind[0]\n",
    "s1[2:5,2:5] = color_ind[1]\n",
    "s1[5:9,5:9] = color_ind[2]\n",
    "\n",
    "# S2\n",
    "num_unique_source = 2\n",
    "s2 = np.zeros((num_source, num_source))\n",
    "s2[:2,:2] = color_ind[0]\n",
    "s2[2:4,2:4] = color_ind[1]\n",
    "s2[4:6,4:6] = color_ind[2]\n",
    "s2[6:8,6:8] = color_ind[3]\n",
    "s2[8:10,8:10] = color_ind[4]\n",
    "\n",
    "# S3\n",
    "num_unique_source = 3\n",
    "s3 = np.zeros((num_source, num_source))\n",
    "s3[:3,:3] = color_ind[0]\n",
    "s3[3:6,3:6] = color_ind[1]\n",
    "s3[6:9,6:9] = color_ind[2]\n",
    "\n",
    "# S4\n",
    "num_unique_source = 4\n",
    "s4 = np.zeros((num_source, num_source))\n",
    "s4[:4,:4] = color_ind[0]\n",
    "s4[4:8,4:8] = color_ind[1]\n",
    "\n",
    "# S5\n",
    "num_unique_source = 4\n",
    "color_ind = np.linspace(1,0.3,12)\n",
    "s5 = np.zeros((num_source, num_source))\n",
    "for i in range(12):\n",
    "    s5[i,i] = color_ind[i]"
   ]
  },
  {
   "cell_type": "code",
   "execution_count": null,
   "metadata": {},
   "outputs": [
    {
     "data": {
      "image/png": "[encoded data removed]",
      "text/plain": [
       "<Figure size 1000x250 with 5 Axes>"
      ]
     },
     "metadata": {},
     "output_type": "display_data"
    }
   ],
   "source": [
    "s_list = [s1, s2, s3, s4, s5]\n",
    "line_list = [[0.5,2.5,3.5,5.5,6.5,7.5], [0.5,2.5,4.5,6.5,8.5], [0.5,1.5,3.5,4.5,6.5,7.5], [0.5,1.5,2.5,4.5,5.5,6.5]]\n",
    "\n",
    "sqc1 = \"palegreen\"\n",
    "sqc2 = \"cornflowerblue\"\n",
    "s_dict = {0:{-0.5:2, 1.5:3, 4.5:4, 8.5:1, 9.5:1, 10.5:1},\\\n",
    "          1:{-0.5:2, 1.5:2, 3.5:2, 5.5:2, 7.5:2, 9.5:1, 10.5:1},\\\n",
    "          2:{-0.5:3, 2.5:3, 5.5:3, 8.5:1, 9.5:1, 10.5:1},\\\n",
    "          3:{-0.5:4, 3.5:4, 7.5:1, 8.5:1, 9.5:1, 10.5:1},\\\n",
    "          4:{-0.5:1, 0.5:1, 1.5:1, 2.5:1, 3.5:1, 4.5:1, 5.5:1, 6.5:1, 7.5:1, 8.5:1, 9.5:1, 10.5:1}}\n",
    "\n",
    "num_row = 1\n",
    "num_col = 5\n",
    "fig, axes = plt.subplots(nrows=num_row, ncols=num_col, figsize=(10,2.5))\n",
    "for c in range(num_col):\n",
    "    ax = axes[c]\n",
    "    ax.spines['top'].set_visible(False)\n",
    "    ax.spines['bottom'].set_visible(False)\n",
    "    ax.spines['left'].set_visible(False)\n",
    "    ax.spines['right'].set_visible(False)\n",
    "    ax.imshow(s_list[c],cmap=\"magma\")\n",
    "    ax.set_title(f\"$S_{c+1}$\",fontsize=20)\n",
    "    if c == 0:\n",
    "      ax.set_ylabel(\"$M_2$\",fontsize=20,rotation=0,labelpad=20)\n",
    "    elif c == 2:\n",
    "      ax.set_xlabel(\"$M_1$\",fontsize=20)\n",
    "    if c < 4:\n",
    "      for i in line_list[c]:\n",
    "        ax.axvline(x=i, ymin=0+1/12, ymax=1-0.5/12, color='k', linewidth=0.5)\n",
    "        ax.axhline(y=i, xmin=0+0.55/12, xmax=1-1/12, color='k', linewidth=0.5)\n",
    "    sq_dict = s_dict.get(c)\n",
    "    for k in sq_dict.keys():\n",
    "      v = sq_dict[k]\n",
    "      if v == 1 and c != 4:\n",
    "        sqc=sqc1\n",
    "      else:\n",
    "        sqc=sqc2\n",
    "      square = plt.Rectangle((k,k), v, v, fill=False, ec=sqc, linewidth=2, zorder=10)\n",
    "      ax.add_patch(square)\n",
    "    ax.set_xlim(-1, 12.1)\n",
    "    ax.set_ylim(12.1, -1)\n",
    "    ax.set_xticks([],[])\n",
    "    ax.set_yticks([],[])\n",
    "plt.tight_layout()\n",
    "plt.savefig(\"subspace_structure.pdf\")"
   ]
  }
 ],
 "metadata": {
  "kernelspec": {
   "display_name": "deepmisa",
   "language": "python",
   "name": "python3"
  },
  "language_info": {
   "codemirror_mode": {
    "name": "ipython",
    "version": 3
   },
   "file_extension": ".py",
   "mimetype": "text/x-python",
   "name": "python",
   "nbconvert_exporter": "python",
   "pygments_lexer": "ipython3",
   "version": "3.11.4"
  },
  "orig_nbformat": 4
 },
 "nbformat": 4,
 "nbformat_minor": 2
}
